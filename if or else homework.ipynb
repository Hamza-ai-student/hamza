{
 "cells": [
  {
   "cell_type": "markdown",
   "metadata": {},
   "source": [
    "# NAME PRACTICE"
   ]
  },
  {
   "cell_type": "code",
   "execution_count": 7,
   "metadata": {},
   "outputs": [
    {
     "name": "stdout",
     "output_type": "stream",
     "text": [
      "please enter your user namehamza\n",
      "user 1 identified\n"
     ]
    }
   ],
   "source": [
    "name = input('please enter your user name')\n",
    "if name=='hamza':\n",
    "    print('user 1 identified')\n",
    "elif name=='fatima':\n",
    "    print('user 2 identified')\n",
    "elif name=='daud':\n",
    "    print('user 3 identified')\n",
    "else:\n",
    "    print('error')"
   ]
  },
  {
   "cell_type": "code",
   "execution_count": 8,
   "metadata": {},
   "outputs": [
    {
     "name": "stdout",
     "output_type": "stream",
     "text": [
      "please enter your user namedaud\n",
      "user 3 identified\n"
     ]
    }
   ],
   "source": [
    "name = input('please enter your user name')\n",
    "if name=='hamza':\n",
    "    print('user 1 identified')\n",
    "elif name=='fatima':\n",
    "    print('user 2 identified')\n",
    "elif name=='daud':\n",
    "    print('user 3 identified')\n",
    "else:\n",
    "    print('error')"
   ]
  },
  {
   "cell_type": "code",
   "execution_count": 9,
   "metadata": {},
   "outputs": [
    {
     "name": "stdout",
     "output_type": "stream",
     "text": [
      "please enter your user namesikander\n",
      "error\n"
     ]
    }
   ],
   "source": [
    "name = input('please enter your user name')\n",
    "if name=='hamza':\n",
    "    print('user 1 identified')\n",
    "elif name=='fatima':\n",
    "    print('user 2 identified')\n",
    "elif name=='daud':\n",
    "    print('user 3 identified')\n",
    "else:\n",
    "    print('error')"
   ]
  },
  {
   "cell_type": "markdown",
   "metadata": {},
   "source": [
    "# EMAIL (VALID OR INVALID)"
   ]
  },
  {
   "cell_type": "code",
   "execution_count": 14,
   "metadata": {},
   "outputs": [
    {
     "name": "stdout",
     "output_type": "stream",
     "text": [
      "enter your email addresspiaic@gmail.com\n",
      "enter your email passwordhamza\n",
      "valid user\n"
     ]
    }
   ],
   "source": [
    "email =input('enter your email address')\n",
    "password =input('enter your email password')\n",
    "if (email=='piaic@gmail.com') & (password=='hamza'):\n",
    "    print('valid user')\n",
    "else:\n",
    "    print('error')"
   ]
  },
  {
   "cell_type": "code",
   "execution_count": 15,
   "metadata": {},
   "outputs": [
    {
     "name": "stdout",
     "output_type": "stream",
     "text": [
      "enter your email addresspiaicgmailcom\n",
      "enter your email passwordhamza\n",
      "error\n"
     ]
    }
   ],
   "source": [
    "email =input('enter your email address')\n",
    "password =input('enter your email password')\n",
    "if (email=='piaic@gmail.com') & (password=='hamza'):\n",
    "    print('valid user')\n",
    "else:\n",
    "    print('error')"
   ]
  }
 ],
 "metadata": {
  "kernelspec": {
   "display_name": "Python 3",
   "language": "python",
   "name": "python3"
  }
 },
 "nbformat": 4,
 "nbformat_minor": 2
}
